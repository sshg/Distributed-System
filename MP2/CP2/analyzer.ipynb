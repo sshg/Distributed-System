{
 "cells": [
  {
   "cell_type": "code",
   "execution_count": null,
   "metadata": {},
   "outputs": [],
   "source": [
    "import os\n",
    "import matplotlib.pyplot as plt\n",
    "import numpy as np\n",
    "import pandas as pd\n",
    "\n",
    "filename = \"total.csv\""
   ]
  },
  {
   "cell_type": "code",
   "execution_count": null,
   "metadata": {},
   "outputs": [],
   "source": [
    "df=pd.read_csv(filename, header=None,sep=' ')\n",
    "block_list = []\n",
    "trans_list = []\n",
    "\n",
    "for i in df[0]:\n",
    "    row = i.split(\",\")\n",
    "    if row[0] == \"BLOCK\":\n",
    "        block_list.append(row)\n",
    "    if row[0] == \"TRANSACTION\":\n",
    "        trans_list.append(row)\n",
    "\n",
    "block_list = sorted(block_list, key = lambda block: block[1])\n",
    "trans_list = sorted(trans_list, key = lambda trans: trans[1])\n",
    "block_df = pd.DataFrame(block_list)\n",
    "trans_df = pd.DataFrame(trans_list)\n",
    "block_df"
   ]
  },
  {
   "cell_type": "code",
   "execution_count": null,
   "metadata": {},
   "outputs": [],
   "source": [
    "block_delay = block_df.groupby(2).agg({4:'min', 5:'max'})\n",
    "#df.groupby('key').agg({'data1':'min','data2':'max'})\n",
    "block_delay"
   ]
  },
  {
   "cell_type": "code",
   "execution_count": null,
   "metadata": {},
   "outputs": [],
   "source": [
    "b_delay_list = []\n",
    "for x,y in zip(block_delay[4], block_delay[5]):\n",
    "    b_delay_list.append(float(y)/1000000 - float(x)/1000000)\n"
   ]
  },
  {
   "cell_type": "code",
   "execution_count": null,
   "metadata": {},
   "outputs": [],
   "source": [
    "plt.figure()\n",
    "x = [i+1 for i in range(len(b_delay_list))]\n",
    "plt.bar(x, b_delay_list, linewidth=1, label = \"block delay\")\n",
    "plt.title(\"Max block delay for each block\")\n",
    "plt.xlabel(\"number of blocks\")\n",
    "plt.ylabel(\"propagation (msec)\")\n",
    "plt.legend(loc='upper right')\n",
    "plt.savefig('block delay.png')\n",
    "# plt.show()\n"
   ]
  },
  {
   "cell_type": "code",
   "execution_count": null,
   "metadata": {},
   "outputs": [],
   "source": [
    "trans_df"
   ]
  },
  {
   "cell_type": "code",
   "execution_count": null,
   "metadata": {},
   "outputs": [],
   "source": [
    "trans_df[8] = trans_df[8].astype(np.float64)"
   ]
  },
  {
   "cell_type": "code",
   "execution_count": null,
   "metadata": {},
   "outputs": [],
   "source": [
    "trans_delay_max = trans_df.groupby(1).agg({8:'max', 1: 'max'})\n",
    "trans_delay_avg = trans_df.groupby(1).agg({8:np.mean, 1: 'max'})\n",
    "trans_delay_min = trans_df.groupby(1).agg({8:'min', 1: 'max'})"
   ]
  },
  {
   "cell_type": "code",
   "execution_count": null,
   "metadata": {},
   "outputs": [],
   "source": [
    "t_delay_max_list = []\n",
    "t_delay_avg_list = []\n",
    "t_delay_min_list = []\n",
    "for x,y in zip(trans_delay_max[1], trans_delay_max[8]):\n",
    "    t_delay_max_list.append(y/1000000 - float(x))\n",
    "\n",
    "for x,y in zip(trans_delay_avg[1], trans_delay_avg[8]):\n",
    "    t_delay_avg_list.append(y/1000000 - float(x))\n",
    "\n",
    "for x,y in zip(trans_delay_min[1], trans_delay_min[8]):\n",
    "    t_delay_min_list.append(y/1000000 - float(x))\n",
    "    \n",
    "x_axis = [i+1 for i in range(len(t_delay_min_list))]"
   ]
  },
  {
   "cell_type": "code",
   "execution_count": null,
   "metadata": {},
   "outputs": [],
   "source": [
    "plt.figure()\n",
    "plt.plot(x_axis, t_delay_max_list, linewidth=1, label = \"propagation\")\n",
    "# plt.plot(x_axis, t_delay_min_list, color = 'red', linewidth=1, label = \"min\")\n",
    "# plt.plot(x_axis, t_delay_avg_list, color = 'green', linewidth=1, label = \"avg\")\n",
    "plt.title(\"Propogation for transactions\")\n",
    "plt.xlabel(\"number of transactions\")\n",
    "plt.ylabel(\"propagation(sec)\")\n",
    "plt.legend(loc='upper right')\n",
    "plt.savefig('transaction delay2.png')\n",
    "plt.show()"
   ]
  },
  {
   "cell_type": "code",
   "execution_count": null,
   "metadata": {},
   "outputs": [],
   "source": [
    "trans_df.head()"
   ]
  },
  {
   "cell_type": "code",
   "execution_count": null,
   "metadata": {},
   "outputs": [],
   "source": [
    "max_del = trans_df.groupby(6).agg({8:'max'})\n",
    "min_del = trans_df.groupby(6).agg({8:'min'})\n",
    "min_del"
   ]
  },
  {
   "cell_type": "code",
   "execution_count": null,
   "metadata": {},
   "outputs": [],
   "source": [
    "tmp =[0] * 4\n",
    "for x, y in zip(max_del[8], min_del[8]):\n",
    "    tmp.append((x-y)/100000)"
   ]
  },
  {
   "cell_type": "code",
   "execution_count": null,
   "metadata": {},
   "outputs": [],
   "source": [
    "plt.figure()\n",
    "plt.bar([i+1 for i in range(len(tmp))], tmp, linewidth=1)\n",
    "# plt.plot(x_axis, t_delay_min_list, color = 'red', linewidth=1, label = \"min\")\n",
    "# plt.plot(x_axis, t_delay_avg_list, color = 'green', linewidth=1, label = \"avg\")\n",
    "plt.title(\"Propogation for block to trans through the whole network\")\n",
    "plt.xlabel(\"number of blocks\")\n",
    "plt.ylabel(\"seconds\")\n",
    "\n",
    "plt.savefig('block prop.png')\n",
    "plt.show()"
   ]
  },
  {
   "cell_type": "code",
   "execution_count": null,
   "metadata": {},
   "outputs": [],
   "source": []
  }
 ],
 "metadata": {
  "kernelspec": {
   "display_name": "Python 3",
   "language": "python",
   "name": "python3"
  },
  "language_info": {
   "codemirror_mode": {
    "name": "ipython",
    "version": 3
   },
   "file_extension": ".py",
   "mimetype": "text/x-python",
   "name": "python",
   "nbconvert_exporter": "python",
   "pygments_lexer": "ipython3",
   "version": "3.6.4"
  }
 },
 "nbformat": 4,
 "nbformat_minor": 2
}
